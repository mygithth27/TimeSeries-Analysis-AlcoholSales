{
 "cells": [
  {
   "cell_type": "code",
   "execution_count": 78,
   "id": "db2d4817",
   "metadata": {},
   "outputs": [],
   "source": [
    "import pandas as pd\n",
    "import numpy as np\n",
    "import seaborn as sns\n",
    "import matplotlib.pyplot as plt\n",
    "from scipy import stats\n",
    "import datetime\n",
    "import os\n",
    "\n",
    "\n",
    "from sklearn.metrics import mean_squared_error\n",
    "from sklearn.metrics import mean_absolute_error"
   ]
  },
  {
   "cell_type": "code",
   "execution_count": 25,
   "id": "21dcbd09",
   "metadata": {},
   "outputs": [],
   "source": [
    "filename = \"../data/Alcohol_Sales.csv\"\n",
    "img_path = '../plots/forecasting/'"
   ]
  },
  {
   "cell_type": "code",
   "execution_count": 42,
   "id": "b2ade05d",
   "metadata": {},
   "outputs": [
    {
     "data": {
      "text/plain": [
       "<bound method NDFrame.head of           DATE  S4248SM144NCEN\n",
       "0   1992-01-01            3459\n",
       "1   1992-02-01            3458\n",
       "2   1992-03-01            4002\n",
       "3   1992-04-01            4564\n",
       "4   1992-05-01            4221\n",
       "..         ...             ...\n",
       "320 2018-09-01           12396\n",
       "321 2018-10-01           13914\n",
       "322 2018-11-01           14174\n",
       "323 2018-12-01           15504\n",
       "324 2019-01-01           10718\n",
       "\n",
       "[325 rows x 2 columns]>"
      ]
     },
     "metadata": {},
     "output_type": "display_data"
    },
    {
     "data": {
      "text/html": [
       "<div>\n",
       "<style scoped>\n",
       "    .dataframe tbody tr th:only-of-type {\n",
       "        vertical-align: middle;\n",
       "    }\n",
       "\n",
       "    .dataframe tbody tr th {\n",
       "        vertical-align: top;\n",
       "    }\n",
       "\n",
       "    .dataframe thead th {\n",
       "        text-align: right;\n",
       "    }\n",
       "</style>\n",
       "<table border=\"1\" class=\"dataframe\">\n",
       "  <thead>\n",
       "    <tr style=\"text-align: right;\">\n",
       "      <th></th>\n",
       "      <th>S4248SM144NCEN</th>\n",
       "    </tr>\n",
       "  </thead>\n",
       "  <tbody>\n",
       "    <tr>\n",
       "      <th>count</th>\n",
       "      <td>325.000000</td>\n",
       "    </tr>\n",
       "    <tr>\n",
       "      <th>mean</th>\n",
       "      <td>7886.400000</td>\n",
       "    </tr>\n",
       "    <tr>\n",
       "      <th>std</th>\n",
       "      <td>2914.269061</td>\n",
       "    </tr>\n",
       "    <tr>\n",
       "      <th>min</th>\n",
       "      <td>3031.000000</td>\n",
       "    </tr>\n",
       "    <tr>\n",
       "      <th>25%</th>\n",
       "      <td>5231.000000</td>\n",
       "    </tr>\n",
       "    <tr>\n",
       "      <th>50%</th>\n",
       "      <td>7481.000000</td>\n",
       "    </tr>\n",
       "    <tr>\n",
       "      <th>75%</th>\n",
       "      <td>9977.000000</td>\n",
       "    </tr>\n",
       "    <tr>\n",
       "      <th>max</th>\n",
       "      <td>15504.000000</td>\n",
       "    </tr>\n",
       "  </tbody>\n",
       "</table>\n",
       "</div>"
      ],
      "text/plain": [
       "       S4248SM144NCEN\n",
       "count      325.000000\n",
       "mean      7886.400000\n",
       "std       2914.269061\n",
       "min       3031.000000\n",
       "25%       5231.000000\n",
       "50%       7481.000000\n",
       "75%       9977.000000\n",
       "max      15504.000000"
      ]
     },
     "metadata": {},
     "output_type": "display_data"
    }
   ],
   "source": [
    "df_sales = pd.read_csv(filename, parse_dates=['DATE'])\n",
    "display(df_sales.head)\n",
    "display(df_sales.describe())"
   ]
  },
  {
   "cell_type": "code",
   "execution_count": 43,
   "id": "645a6a01",
   "metadata": {},
   "outputs": [
    {
     "data": {
      "text/html": [
       "<div>\n",
       "<style scoped>\n",
       "    .dataframe tbody tr th:only-of-type {\n",
       "        vertical-align: middle;\n",
       "    }\n",
       "\n",
       "    .dataframe tbody tr th {\n",
       "        vertical-align: top;\n",
       "    }\n",
       "\n",
       "    .dataframe thead th {\n",
       "        text-align: right;\n",
       "    }\n",
       "</style>\n",
       "<table border=\"1\" class=\"dataframe\">\n",
       "  <thead>\n",
       "    <tr style=\"text-align: right;\">\n",
       "      <th></th>\n",
       "      <th>S4248SM144NCEN</th>\n",
       "    </tr>\n",
       "    <tr>\n",
       "      <th>time</th>\n",
       "      <th></th>\n",
       "    </tr>\n",
       "  </thead>\n",
       "  <tbody>\n",
       "    <tr>\n",
       "      <th>1992-01-01</th>\n",
       "      <td>3459</td>\n",
       "    </tr>\n",
       "    <tr>\n",
       "      <th>1992-02-01</th>\n",
       "      <td>3458</td>\n",
       "    </tr>\n",
       "    <tr>\n",
       "      <th>1992-03-01</th>\n",
       "      <td>4002</td>\n",
       "    </tr>\n",
       "    <tr>\n",
       "      <th>1992-04-01</th>\n",
       "      <td>4564</td>\n",
       "    </tr>\n",
       "    <tr>\n",
       "      <th>1992-05-01</th>\n",
       "      <td>4221</td>\n",
       "    </tr>\n",
       "    <tr>\n",
       "      <th>...</th>\n",
       "      <td>...</td>\n",
       "    </tr>\n",
       "    <tr>\n",
       "      <th>2018-09-01</th>\n",
       "      <td>12396</td>\n",
       "    </tr>\n",
       "    <tr>\n",
       "      <th>2018-10-01</th>\n",
       "      <td>13914</td>\n",
       "    </tr>\n",
       "    <tr>\n",
       "      <th>2018-11-01</th>\n",
       "      <td>14174</td>\n",
       "    </tr>\n",
       "    <tr>\n",
       "      <th>2018-12-01</th>\n",
       "      <td>15504</td>\n",
       "    </tr>\n",
       "    <tr>\n",
       "      <th>2019-01-01</th>\n",
       "      <td>10718</td>\n",
       "    </tr>\n",
       "  </tbody>\n",
       "</table>\n",
       "<p>325 rows × 1 columns</p>\n",
       "</div>"
      ],
      "text/plain": [
       "            S4248SM144NCEN\n",
       "time                      \n",
       "1992-01-01            3459\n",
       "1992-02-01            3458\n",
       "1992-03-01            4002\n",
       "1992-04-01            4564\n",
       "1992-05-01            4221\n",
       "...                    ...\n",
       "2018-09-01           12396\n",
       "2018-10-01           13914\n",
       "2018-11-01           14174\n",
       "2018-12-01           15504\n",
       "2019-01-01           10718\n",
       "\n",
       "[325 rows x 1 columns]"
      ]
     },
     "metadata": {},
     "output_type": "display_data"
    },
    {
     "data": {
      "text/html": [
       "<div>\n",
       "<style scoped>\n",
       "    .dataframe tbody tr th:only-of-type {\n",
       "        vertical-align: middle;\n",
       "    }\n",
       "\n",
       "    .dataframe tbody tr th {\n",
       "        vertical-align: top;\n",
       "    }\n",
       "\n",
       "    .dataframe thead th {\n",
       "        text-align: right;\n",
       "    }\n",
       "</style>\n",
       "<table border=\"1\" class=\"dataframe\">\n",
       "  <thead>\n",
       "    <tr style=\"text-align: right;\">\n",
       "      <th></th>\n",
       "      <th>S4248SM144NCEN</th>\n",
       "    </tr>\n",
       "  </thead>\n",
       "  <tbody>\n",
       "    <tr>\n",
       "      <th>count</th>\n",
       "      <td>325.000000</td>\n",
       "    </tr>\n",
       "    <tr>\n",
       "      <th>mean</th>\n",
       "      <td>7886.400000</td>\n",
       "    </tr>\n",
       "    <tr>\n",
       "      <th>std</th>\n",
       "      <td>2914.269061</td>\n",
       "    </tr>\n",
       "    <tr>\n",
       "      <th>min</th>\n",
       "      <td>3031.000000</td>\n",
       "    </tr>\n",
       "    <tr>\n",
       "      <th>25%</th>\n",
       "      <td>5231.000000</td>\n",
       "    </tr>\n",
       "    <tr>\n",
       "      <th>50%</th>\n",
       "      <td>7481.000000</td>\n",
       "    </tr>\n",
       "    <tr>\n",
       "      <th>75%</th>\n",
       "      <td>9977.000000</td>\n",
       "    </tr>\n",
       "    <tr>\n",
       "      <th>max</th>\n",
       "      <td>15504.000000</td>\n",
       "    </tr>\n",
       "  </tbody>\n",
       "</table>\n",
       "</div>"
      ],
      "text/plain": [
       "       S4248SM144NCEN\n",
       "count      325.000000\n",
       "mean      7886.400000\n",
       "std       2914.269061\n",
       "min       3031.000000\n",
       "25%       5231.000000\n",
       "50%       7481.000000\n",
       "75%       9977.000000\n",
       "max      15504.000000"
      ]
     },
     "metadata": {},
     "output_type": "display_data"
    },
    {
     "data": {
      "text/plain": [
       "Sales    0\n",
       "dtype: int64"
      ]
     },
     "execution_count": 43,
     "metadata": {},
     "output_type": "execute_result"
    }
   ],
   "source": [
    "\n",
    "df_sales.index = df_sales['DATE']\n",
    "df_sales = df_sales.drop(['DATE'], axis=1)\n",
    "df_sales.index = df_sales.index.rename('time')\n",
    "display(df_sales)\n",
    "display(df_sales.describe())\n",
    "df_sales = df_sales.rename(columns={\"S4248SM144NCEN\": \"Sales\"})\n",
    "sales_title = df_sales.columns[0]\n",
    "df_sales.isna().sum()"
   ]
  },
  {
   "cell_type": "code",
   "execution_count": null,
   "id": "51fbae72",
   "metadata": {},
   "outputs": [],
   "source": [
    "\n"
   ]
  },
  {
   "cell_type": "code",
   "execution_count": 44,
   "id": "398cf4b7",
   "metadata": {},
   "outputs": [],
   "source": [
    "df_sales_arima = df_sales.copy()"
   ]
  },
  {
   "cell_type": "code",
   "execution_count": null,
   "id": "7daf1be4",
   "metadata": {},
   "outputs": [],
   "source": []
  },
  {
   "cell_type": "code",
   "execution_count": null,
   "id": "12bf0208",
   "metadata": {},
   "outputs": [],
   "source": []
  },
  {
   "cell_type": "code",
   "execution_count": 79,
   "id": "c4eebed2",
   "metadata": {},
   "outputs": [],
   "source": [
    "# Useful functions\n",
    "\n",
    "def get_test_train_split(df, split=0.2):\n",
    "    split_nb = int(len(df)*split)\n",
    "    train, test = df.iloc[:-split_nb], df.iloc[-split_nb:]\n",
    "    train.index = pd.to_datetime(train.index)\n",
    "    test.index = pd.to_datetime(test.index)\n",
    "    return train, test\n",
    "\n",
    "def base_model(df):\n",
    "    \"\"\"Predict a  with previous observation\"\"\"\n",
    "    data = df.values\n",
    "    pred_data = np.roll(data, shift=1, axis=None)\n",
    "    pred_data[0] = data[0]\n",
    "    \n",
    "    return pred_data\n",
    "\n",
    "def model_evaluation(true_val, pred_val):\n",
    "    \"\"\"Get the Root Mean Square Error and Mean Absolute Error\"\"\"\n",
    "    rmse = np.sqrt(mean_squared_error(true_val, pred_val))\n",
    "    mae = mean_absolute_error(true_val, pred_val)\n",
    "    return rmse, mae"
   ]
  },
  {
   "cell_type": "code",
   "execution_count": 58,
   "id": "2f918ba7",
   "metadata": {},
   "outputs": [],
   "source": [
    "train,test = get_test_train_split(df_sales_arima, 0.2)"
   ]
  },
  {
   "cell_type": "code",
   "execution_count": 65,
   "id": "ee3bb3e5",
   "metadata": {},
   "outputs": [
    {
     "data": {
      "text/plain": [
       "<bound method NDFrame.head of             Sales\n",
       "time             \n",
       "1992-01-01   3459\n",
       "1992-02-01   3458\n",
       "1992-03-01   4002\n",
       "1992-04-01   4564\n",
       "1992-05-01   4221\n",
       "...           ...\n",
       "2013-04-01  10493\n",
       "2013-05-01  12218\n",
       "2013-06-01  11385\n",
       "2013-07-01  11186\n",
       "2013-08-01  11462\n",
       "\n",
       "[260 rows x 1 columns]>"
      ]
     },
     "metadata": {},
     "output_type": "display_data"
    }
   ],
   "source": [
    "display(train.head)"
   ]
  },
  {
   "cell_type": "code",
   "execution_count": null,
   "id": "1fcf96b4",
   "metadata": {},
   "outputs": [],
   "source": []
  },
  {
   "cell_type": "code",
   "execution_count": 81,
   "id": "01900eff",
   "metadata": {},
   "outputs": [
    {
     "name": "stdout",
     "output_type": "stream",
     "text": [
      "Train data\n",
      "Base model RMSE:  1088.2289086825012\n",
      "Base model MAE:  756.1884615384615\n",
      "\n",
      "\n",
      "Test data\n",
      "Base model RMSE:  1999.1991781326226\n",
      "Base model MAE:  1513.5692307692307\n"
     ]
    }
   ],
   "source": [
    "\n",
    "pred_train_base = base_model(train)\n",
    "pred_test_base = base_model(test)\n",
    "base_rmse_train, base_mae_train = model_evaluation(train['Sales'], pred_train_base)\n",
    "base_rmse_test, base_mae_test = model_evaluation(test['Sales'], pred_test_base)\n",
    "#print(\"Base model, rmse Train Error: \", base_rmse_train) \n",
    "#print(\"Base model, rmse Test Error: \", base_rmse_test) \n",
    "\n",
    "\n",
    "print('Train data')\n",
    "print('Base model RMSE: ', base_rmse_train) # RMSE\n",
    "print('Base model MAE: ', base_mae_train)  # MAE\n",
    "\n",
    "\n",
    "print('\\n')\n",
    "print('Test data')\n",
    "print('Base model RMSE: ', base_rmse_test) \n",
    "print('Base model MAE: ', base_mae_test)\n"
   ]
  },
  {
   "cell_type": "code",
   "execution_count": null,
   "id": "4a4189c8",
   "metadata": {},
   "outputs": [],
   "source": []
  },
  {
   "cell_type": "code",
   "execution_count": null,
   "id": "5eac64be",
   "metadata": {},
   "outputs": [],
   "source": []
  },
  {
   "cell_type": "raw",
   "id": "510e8e73",
   "metadata": {},
   "source": [
    "from sklearn.metrics import mean_squared_error\n",
    "rmse = np.sqrt(mean_squared_error(test, preds))\n",
    "\n",
    "sales_title \n"
   ]
  }
 ],
 "metadata": {
  "kernelspec": {
   "display_name": "Python 3 (ipykernel)",
   "language": "python",
   "name": "python3"
  },
  "language_info": {
   "codemirror_mode": {
    "name": "ipython",
    "version": 3
   },
   "file_extension": ".py",
   "mimetype": "text/x-python",
   "name": "python",
   "nbconvert_exporter": "python",
   "pygments_lexer": "ipython3",
   "version": "3.8.12"
  }
 },
 "nbformat": 4,
 "nbformat_minor": 5
}
